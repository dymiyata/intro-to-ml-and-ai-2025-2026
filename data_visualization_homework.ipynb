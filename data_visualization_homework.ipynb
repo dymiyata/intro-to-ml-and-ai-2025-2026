{
  "nbformat": 4,
  "nbformat_minor": 0,
  "metadata": {
    "colab": {
      "provenance": [],
      "authorship_tag": "ABX9TyOxsVmhP8mtqQpwj6T1LoQu",
      "include_colab_link": true
    },
    "kernelspec": {
      "name": "python3",
      "display_name": "Python 3"
    },
    "language_info": {
      "name": "python"
    }
  },
  "cells": [
    {
      "cell_type": "markdown",
      "metadata": {
        "id": "view-in-github",
        "colab_type": "text"
      },
      "source": [
        "<a href=\"https://colab.research.google.com/github/dymiyata/intro-to-ml-and-ai-2025-2026/blob/main/data_visualization_homework.ipynb\" target=\"_parent\"><img src=\"https://colab.research.google.com/assets/colab-badge.svg\" alt=\"Open In Colab\"/></a>"
      ]
    },
    {
      "cell_type": "markdown",
      "source": [
        "## Data Visualization Homework\n",
        "\n",
        "For this assignment, you will be practicing and getting comfortable creating plots and visualizations from a dataset (basically the stuff we did in class).\n"
      ],
      "metadata": {
        "id": "JHhDkDAXdWml"
      }
    },
    {
      "cell_type": "markdown",
      "source": [
        "As usual, make sure you save a copy of this notebook to your own Google Drive.\n",
        "\n",
        "Also, for my sake, please rename the file to include your name.  For example, I would change the name to \"data_visualization_homework_dane_miyata.ipynb\" since my name is Dane Miyata. You can rename files by clicking the file name at the top of the page **AFTER** you save your own copy."
      ],
      "metadata": {
        "id": "7YEpRo-lj5Yn"
      }
    },
    {
      "cell_type": "markdown",
      "source": [
        "### Problem 1\n",
        "\n",
        "Begin by importing the Pandas, Matplotlib, and Seaborn libraries in the code cell below.  You can use the exact same import functions we used in class."
      ],
      "metadata": {
        "id": "sJoA5EPkdnyL"
      }
    },
    {
      "cell_type": "code",
      "execution_count": null,
      "metadata": {
        "id": "6WXI54CMcmhx"
      },
      "outputs": [],
      "source": []
    },
    {
      "cell_type": "markdown",
      "source": [
        "### Problem 2\n",
        "\n",
        "For this homework, you will work with Seaborn's `penguins` dataset.  \n",
        "\n",
        "In the cell below, use `sns.load_dataset()` to load the data, then store it in a variable called `df` just like we did in class with the iris dataset.\n",
        "  - Be sure to replace `\"iris\"` with `\"penguins\"`.\n",
        "  - You can use the `DataFrame.head()` function to confirm things worked\n"
      ],
      "metadata": {
        "id": "DxXcijppd4bK"
      }
    },
    {
      "cell_type": "code",
      "source": [],
      "metadata": {
        "id": "ao4Fq03meSAk"
      },
      "execution_count": null,
      "outputs": []
    },
    {
      "cell_type": "markdown",
      "source": [
        "**IMPORTANT:** In order to do the rest of the homework, the first two problems must be done correctly.  If you are unsure if you did it correctly please send me an email or ask a classmate for help."
      ],
      "metadata": {
        "id": "NqAbGuhBeckb"
      }
    },
    {
      "cell_type": "markdown",
      "source": [
        "### Problem 3\n",
        "\n",
        "(Make sure you know how to add code cells and text cells in specific locations).\n",
        "\n",
        "- (a) In a code cell, display a brief overview of the dataset (what dataframe function can you use for this?)\n",
        "- (b) In a text cell below that, write out what all the column names are and how many total penguins there are. (feel free to add another code cell if you need to run more code to answer this)\n",
        "- (c) In a code cell below that run code to figure out how many penguins are there of each species? Then add a text cell clearly stating your answer (In the text cell I recommend writing something like this for each species:\n",
        "> \"There are \\<insert number\\> penguins of the \\<insert species\\> species.\"\n"
      ],
      "metadata": {
        "id": "ZWNYMn3GeaNH"
      }
    },
    {
      "cell_type": "code",
      "source": [],
      "metadata": {
        "id": "lDNKddy7gnNE"
      },
      "execution_count": null,
      "outputs": []
    },
    {
      "cell_type": "markdown",
      "source": [
        "### Disclaimer:\n",
        "\n",
        "For the remaining problems, I won't tell you exactly when to add code cells or text cells.  Use your best judgement on how you should best format and present your answers (this is an important skill to develop)."
      ],
      "metadata": {
        "id": "-UCs5NIflob3"
      }
    },
    {
      "cell_type": "markdown",
      "source": [
        "### Problem 4\n",
        "\n",
        "\n",
        "- (a) Create a **histogram** of `body_mass_g`.\n",
        "  - Add an appropriate title and appropriate axes lables.\n",
        "  - Experiment with different numbers of bins until you think your choice best reflects the shape of the distribution\n",
        "- (b) Describe the shape of the distribution. To do this think about questions like:\n",
        "    - Is it symmetric?\n",
        "    - Are there multiple peaks?\n",
        "    - Do we see certain clusters of data?\n",
        "- (c) Create a histogram for `flipper_length_mm` separated by `species` by running: `sns.histplot(data=df, x=\"flipper_length_mm\", bins=30, hue=\"species\")` but adjust the number of bins as you see fit.\n",
        "  - What can you conclude about flipper lengths among the different species?"
      ],
      "metadata": {
        "id": "CeRUxsCZgmRc"
      }
    },
    {
      "cell_type": "markdown",
      "source": [
        "### Problem 5\n",
        "\n",
        "Make a **scatter plot** comparing two numerical variables of your choice.  \n",
        "- Color points by species using the `hue` argment\n",
        "- Add an appropriate title and axes lables to your plot\n",
        "- What kind of patterns do you see?\n",
        "  - From your plot, do you think there a strong correlation, weak correlation, or no correlation between the two variables?\n",
        "  - If there is a correlation, is it a positive or a negative correlation?\n",
        "  - What do you notice about penguins in different species?"
      ],
      "metadata": {
        "id": "pq1LcHZhjLHu"
      }
    },
    {
      "cell_type": "markdown",
      "source": [
        "### Problem 6\n",
        "\n",
        "Use `sns.boxplot` to compare any numerical variable of your choice among the different species. (See the boxplot example from class).\n",
        "- What can you conclude from your plot?\n",
        "- Here are things to consider while answering this\n",
        "  - Maybe certain species have larger values.\n",
        "  - Maybe they're all approximately the same.\n",
        "  - What does the spread of values look like for the different species?\n",
        "  - Do you notice any other notable patterns?"
      ],
      "metadata": {
        "id": "jhwDW1k0l8C_"
      }
    },
    {
      "cell_type": "markdown",
      "source": [
        "### Problem 7\n",
        "\n",
        "Create a correlation heatmap for all of the **numerical** variables in the dataset.\n",
        "\n",
        "Describe any interesting patterns you notice. Be sure to include answers to the following:\n",
        "- Which pairs variables are most strongly correlated?\n",
        "- Which are least strongly correlated?\n",
        "\n",
        "Then, create a pairplot for all of these numerical variables to visualize these correlations.\n",
        "- Do the plots agree with your heatmap?\n",
        "- If you add a `hue` argument for species do you notice anything interesting?"
      ],
      "metadata": {
        "id": "RpmT22zInHAu"
      }
    },
    {
      "cell_type": "markdown",
      "source": [
        "### Problem 8\n",
        "\n",
        "Run the following code to see all of the sample datasets included in the Seaborn library.\n",
        "\n",
        "```\n",
        "dataset_names = sns.get_dataset_names()\n",
        "for name in dataset_names:\n",
        "  print(name)\n",
        "```\n",
        "- Pick one of the datasets other than `penguins` or `iris` and load it into a new dataframe\n",
        "  - **WARNING**: Be sure to name this new dataframe something other than `df` so that it doesn't overwrite what you did previously.  You can call it whatever you want as long as it's not the same as `df`.\n",
        "- Explore the dataset to get a feel for what information it has.\n",
        "  - Use things like `DataFrame.head()`, `DataFrame.info()`, `DataFrame.describe()`, etc...\n",
        "  - If it's too difficult to figure out what's going on in the dataset, pick a different one.\n",
        "- Create a plot of your choice for the dataset (We have so many types of plots to choose from. If you want, you can look up other types of plots that you can make in Seaborn)\n",
        "- Explain something interesting that you're able to see from your plot.\n"
      ],
      "metadata": {
        "id": "d0gaAtc0oaTL"
      }
    }
  ]
}