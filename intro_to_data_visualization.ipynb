{
  "nbformat": 4,
  "nbformat_minor": 0,
  "metadata": {
    "colab": {
      "provenance": [],
      "authorship_tag": "ABX9TyNyGj45+i8wMzliEjnuqlht",
      "include_colab_link": true
    },
    "kernelspec": {
      "name": "python3",
      "display_name": "Python 3"
    },
    "language_info": {
      "name": "python"
    }
  },
  "cells": [
    {
      "cell_type": "markdown",
      "metadata": {
        "id": "view-in-github",
        "colab_type": "text"
      },
      "source": [
        "<a href=\"https://colab.research.google.com/github/dymiyata/intro-to-ml-and-ai-2025-2026/blob/main/intro_to_data_visualization.ipynb\" target=\"_parent\"><img src=\"https://colab.research.google.com/assets/colab-badge.svg\" alt=\"Open In Colab\"/></a>"
      ]
    },
    {
      "cell_type": "markdown",
      "source": [
        "# Data Visualization\n",
        "\n",
        "Now that we know how to use pandas to work with dataframes the next important thing to talk about is being able to visualize the data.\n",
        "\n",
        "Moreover, when we do machine learning, it's important for us to be able to visualize our results, especially if we're trying to show our results to others."
      ],
      "metadata": {
        "id": "kMD-TymXstGy"
      }
    },
    {
      "cell_type": "markdown",
      "source": [
        "**Important Reminder**: Make sure you save a copy of this notebook to your own google drive.  Otherwise any changes you make won't be saved. You can do so by clicking\n",
        "\n",
        "File -> Save a copy in Drive"
      ],
      "metadata": {
        "id": "8CMlWTPTYVI-"
      }
    },
    {
      "cell_type": "markdown",
      "source": [
        "## Importing Libaries\n",
        "\n",
        "We begin by importing pandas in order to actually work with the data."
      ],
      "metadata": {
        "id": "KnbngGEHtPxy"
      }
    },
    {
      "cell_type": "code",
      "execution_count": null,
      "metadata": {
        "id": "g4PokhLnksdt"
      },
      "outputs": [],
      "source": [
        "import pandas as pd"
      ]
    },
    {
      "cell_type": "markdown",
      "source": [
        "Next we import two new libraries.  \n",
        "- Matplotlib: A comprehensive library for creating visualizations in Python\n",
        "- Seaborn: A library built on top of matplotlib which abstracts away some of the complexity of working with Matplotlib. (It simplifies it for us).\n"
      ],
      "metadata": {
        "id": "MpxP4caatWRO"
      }
    },
    {
      "cell_type": "code",
      "source": [
        "import matplotlib.pyplot as plt\n",
        "import seaborn as sns"
      ],
      "metadata": {
        "id": "a9I0qP73sq8D"
      },
      "execution_count": null,
      "outputs": []
    },
    {
      "cell_type": "markdown",
      "source": [
        "### The Dataset\n",
        "\n",
        "Today we will work with a dataset of many flowers of a certain type.  This flower is called an *iris*.\n",
        "- Each row is a specific iris with a bunch of measurements taken\n",
        "- There are three species of iris in this dataset as we will see.\n",
        "\n",
        "This dataset is included in the Seaborn library so we don't have to download anything to use it, we can simply load it with Seaborn.\n",
        "\n",
        "(normally we will have to obtain a .csv file or something. Then manually load it in with pandas like we did with the pokemon dataset last week).\n",
        "\n"
      ],
      "metadata": {
        "id": "hqt4w2aWuHj_"
      }
    },
    {
      "cell_type": "code",
      "source": [
        "df = sns.load_dataset(\"iris\")"
      ],
      "metadata": {
        "id": "OY4cYug1r0xm"
      },
      "execution_count": null,
      "outputs": []
    },
    {
      "cell_type": "markdown",
      "source": [
        "If we want to do a rough overview of the dataset, what commands can we run?\n",
        "Here are some questions we can try to answer:"
      ],
      "metadata": {
        "id": "Tu8n1sZ7u_xQ"
      }
    },
    {
      "cell_type": "markdown",
      "source": [
        "- How many rows are there?\n",
        "- What are the columns of the dataframe?\n",
        "- What are the datatypes for each of the entries in the dataset?"
      ],
      "metadata": {
        "id": "qylqMeteJsAK"
      }
    },
    {
      "cell_type": "code",
      "source": [],
      "metadata": {
        "id": "8M9SSQSBsYGh"
      },
      "execution_count": null,
      "outputs": []
    },
    {
      "cell_type": "markdown",
      "source": [
        "- What is the average `sepal_length`?"
      ],
      "metadata": {
        "id": "H4ek5Xp0J9ZF"
      }
    },
    {
      "cell_type": "code",
      "source": [],
      "metadata": {
        "id": "mlee8cIcKCSy"
      },
      "execution_count": null,
      "outputs": []
    },
    {
      "cell_type": "markdown",
      "source": [
        "- What is the average `sepal_length` for just the `setosa` `species`"
      ],
      "metadata": {
        "id": "hI6eCefBJ3af"
      }
    },
    {
      "cell_type": "code",
      "source": [],
      "metadata": {
        "id": "RfbCljbfLxyR"
      },
      "execution_count": null,
      "outputs": []
    },
    {
      "cell_type": "markdown",
      "source": [
        "- What are the different species and how many of each are there?"
      ],
      "metadata": {
        "id": "o7J8ejxtLyIm"
      }
    },
    {
      "cell_type": "code",
      "source": [],
      "metadata": {
        "id": "cWuHQCv4MDB7"
      },
      "execution_count": null,
      "outputs": []
    },
    {
      "cell_type": "markdown",
      "source": [
        "## Histograms\n",
        "\n",
        "Who knows what a histogram is?"
      ],
      "metadata": {
        "id": "MYe3Z0iIxSGz"
      }
    },
    {
      "cell_type": "markdown",
      "source": [
        "We can make a histogram to view the distribution of a single column in our dataframe.  Let's do so with the `petal_length` column.\n",
        "- What does changing the number of bins do?\n",
        "- What does `kde=True` do?\n",
        "- What do you think about the shape of the distribution?\n",
        "- Let's add the line `sns.set_theme()`"
      ],
      "metadata": {
        "id": "J2-Mc1WDzC5u"
      }
    },
    {
      "cell_type": "code",
      "source": [
        "sns.histplot(df[\"petal_length\"], bins=20, kde=True)\n",
        "plt.show()\n"
      ],
      "metadata": {
        "id": "7lk9qCG3saQ2"
      },
      "execution_count": null,
      "outputs": []
    },
    {
      "cell_type": "markdown",
      "source": [
        "Let's add a title and some more appropriate labels to the axes."
      ],
      "metadata": {
        "id": "krZxMXQjy21E"
      }
    },
    {
      "cell_type": "code",
      "source": [
        "sns.histplot(df[\"petal_length\"], bins=20)\n",
        "plt.title(\"Distribution of Petal Lengths of Irises\")\n",
        "plt.xlabel(\"Petal Length (cm)\")\n",
        "plt.ylabel(\"Count\")\n",
        "plt.show()"
      ],
      "metadata": {
        "id": "49Xzm_BDLCaT"
      },
      "execution_count": null,
      "outputs": []
    },
    {
      "cell_type": "markdown",
      "source": [
        "## Exploring Relationships Between Variables"
      ],
      "metadata": {
        "id": "zqlekZdo0vs5"
      }
    },
    {
      "cell_type": "markdown",
      "source": [
        "Who knows what a scatter plot is?"
      ],
      "metadata": {
        "id": "QUS8Htkr1DQN"
      }
    },
    {
      "cell_type": "markdown",
      "source": [
        "Let's create a scatter plot exploring `petal_length` vs `petal_width`.\n",
        "\n",
        "Any guesses for an overall trend?"
      ],
      "metadata": {
        "id": "S4zLAb7z2z_Q"
      }
    },
    {
      "cell_type": "code",
      "source": [
        "sns.scatterplot(x=\"petal_length\", y=\"petal_width\", data=df)"
      ],
      "metadata": {
        "id": "6eWERoALyZwm"
      },
      "execution_count": null,
      "outputs": []
    },
    {
      "cell_type": "markdown",
      "source": [
        "Notice some of he values seems to cluster together. Why might this be the case?"
      ],
      "metadata": {
        "id": "XsrquZU9OaAO"
      }
    },
    {
      "cell_type": "code",
      "source": [],
      "metadata": {
        "id": "upi_RnRoOkeK"
      },
      "execution_count": null,
      "outputs": []
    },
    {
      "cell_type": "markdown",
      "source": [
        "## Correlation\n",
        "\n",
        "Trends between two quantitative variables can be measured using a value called the *correlation coefficiont* or just *correlation* usually denoted by the letter $r$.  \n",
        "\n",
        "- It is always the case that\n",
        "$$-1 \\leq r \\leq 1$$\n",
        "- The closer $r$ is to $1$ or $-1$ the *stronger* the correlation.\n",
        "- A positive $r$ value, means the data seems to have a positive slope\n",
        "- A negative $r$ value, means the data seems to have a negative slope\n",
        "- An $r$ value near 0 means there isn't a correlation between the two variables.\n",
        "\n",
        "We can use `DataFrame.corr()` to explore the correlations between the variables. First we need to only keep the quantitative variables.\n"
      ],
      "metadata": {
        "id": "t4tK_IeH3P6N"
      }
    },
    {
      "cell_type": "code",
      "source": [
        "numerical_df = df.select_dtypes(\"number\")\n",
        "numerical_df.corr()\n"
      ],
      "metadata": {
        "id": "X99P_sgIOuHa"
      },
      "execution_count": null,
      "outputs": []
    },
    {
      "cell_type": "markdown",
      "source": [
        "We can use a heatmap to make this more visually appealing"
      ],
      "metadata": {
        "id": "GoFJ4Vdv4Wxd"
      }
    },
    {
      "cell_type": "code",
      "source": [
        "sns.heatmap(numerical_df.corr(), annot=True, cmap='crest')\n",
        "plt.show()"
      ],
      "metadata": {
        "id": "06kois_8z0JA"
      },
      "execution_count": null,
      "outputs": []
    },
    {
      "cell_type": "markdown",
      "source": [
        "Let's make a scatter plot with variables that seem strongly correlated.  Then another with variables that are less strongly correlated."
      ],
      "metadata": {
        "id": "Ta2znvrBQ4s_"
      }
    },
    {
      "cell_type": "code",
      "source": [
        "# Strong Correlation Here"
      ],
      "metadata": {
        "id": "3RXbO7XSRAMw"
      },
      "execution_count": null,
      "outputs": []
    },
    {
      "cell_type": "code",
      "source": [
        "# Weak Correlation Here\n"
      ],
      "metadata": {
        "id": "Lq-wUasYRLok"
      },
      "execution_count": null,
      "outputs": []
    },
    {
      "cell_type": "markdown",
      "source": [
        "Maybe `sepal_width` and `sepal_length` are not that correlated.  However, there still seems to be some *clutering*.  Maybe within a certain species they are correlated?\n",
        "\n",
        "Let's explore this with the same plot, but we add colors to separate the different species using the argument `hue=\"species\"`."
      ],
      "metadata": {
        "id": "JpNLQDUnRoG6"
      }
    },
    {
      "cell_type": "code",
      "source": [],
      "metadata": {
        "id": "xr-GlfmeSRz8"
      },
      "execution_count": null,
      "outputs": []
    },
    {
      "cell_type": "markdown",
      "source": [
        "## Pair plots\n",
        "\n",
        "Maybe we want scatterplots for all the pairs of numerical variables at once. We can do so with a *pair plot*."
      ],
      "metadata": {
        "id": "A-8DRumGSX5t"
      }
    },
    {
      "cell_type": "code",
      "source": [],
      "metadata": {
        "id": "HysSMIJbUCt0"
      },
      "execution_count": null,
      "outputs": []
    },
    {
      "cell_type": "markdown",
      "source": [
        "## Many Other Types of Plots to Explore\n",
        "\n",
        "Here are just some random examples of other types of plots you can make with Seaborn.  There's too much to go over everything in depth, so feel free to play around with things to explore what's possible."
      ],
      "metadata": {
        "id": "xe4l1nN6VS4a"
      }
    },
    {
      "cell_type": "code",
      "source": [
        "sns.countplot(x=\"species\", data=df)"
      ],
      "metadata": {
        "id": "Ktvk7OQtWOar"
      },
      "execution_count": null,
      "outputs": []
    },
    {
      "cell_type": "code",
      "source": [
        "sns.barplot(x=\"species\", y=\"sepal_length\", data=df, hue=\"species\")\n",
        "plt.show()"
      ],
      "metadata": {
        "id": "EhSj99pMVi1F"
      },
      "execution_count": null,
      "outputs": []
    },
    {
      "cell_type": "code",
      "source": [
        "sns.boxplot(x=\"species\", y=\"sepal_length\", data=df)\n",
        "plt.show()"
      ],
      "metadata": {
        "id": "PQiYuhD3V5U0"
      },
      "execution_count": null,
      "outputs": []
    },
    {
      "cell_type": "code",
      "source": [
        "sns.swarmplot(x=\"species\", y=\"petal_length\", data=df, hue=\"species\", size=4.5)\n",
        "plt.show()"
      ],
      "metadata": {
        "id": "27ll3wPGZfz0"
      },
      "execution_count": null,
      "outputs": []
    },
    {
      "cell_type": "code",
      "source": [
        "grid = sns.FacetGrid(df, col=\"species\")\n",
        "grid.map_dataframe(sns.scatterplot, x=\"sepal_length\", y=\"petal_length\")\n",
        "plt.show()"
      ],
      "metadata": {
        "id": "_JTmrAloWgfv"
      },
      "execution_count": null,
      "outputs": []
    },
    {
      "cell_type": "markdown",
      "source": [
        "## Trends and Patterns\n",
        "\n",
        "Notice by plotting the data we can begin to see many trends in the data.\n",
        "It seems that if we know some information about an iris, we can predict other information about it.\n",
        "\n",
        "- For example, if we know the `petal_width` maybe we can *predict* the `petal_length`.  \n",
        "\n",
        "- Or even better, if we know `petal_width`, `petal_length`, `sepal_width` and `sepal_length` perhaps we can *predict* what `species` of iris it is.  \n",
        "\n",
        "In the future weeks we will finally start to do some *actual* machine learning to train a computer to learn these patterns in order to be able to make these predictions."
      ],
      "metadata": {
        "id": "RzOrnE9SUCI7"
      }
    },
    {
      "cell_type": "markdown",
      "source": [
        "We will begin with (multi) linear regression.  Here's a preview:"
      ],
      "metadata": {
        "id": "n8RY5CyOXEaf"
      }
    },
    {
      "cell_type": "code",
      "source": [
        "sns.regplot(x=\"petal_length\", y=\"petal_width\", data=df)\n",
        "plt.show()"
      ],
      "metadata": {
        "id": "p2uL-tIh4pUq"
      },
      "execution_count": null,
      "outputs": []
    }
  ]
}